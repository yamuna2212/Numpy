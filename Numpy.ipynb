{
 "cells": [
  {
   "cell_type": "markdown",
   "id": "53dafd97",
   "metadata": {},
   "source": [
    "### 1. Create a null vector of size 10 but the fifth value which is 1.\n"
   ]
  },
  {
   "cell_type": "code",
   "execution_count": 1,
   "id": "c3b9d3dd",
   "metadata": {},
   "outputs": [
    {
     "name": "stdout",
     "output_type": "stream",
     "text": [
      "[0. 0. 0. 0. 0. 0. 1. 0. 0. 0.]\n"
     ]
    }
   ],
   "source": [
    "import numpy as np\n",
    "\n",
    "n = 7   \n",
    "\n",
    "null_vector = np.zeros(10)\n",
    "\n",
    "null_vector[n-1] = 1\n",
    "\n",
    "print(null_vector)\n"
   ]
  },
  {
   "cell_type": "markdown",
   "id": "0a4a9188",
   "metadata": {},
   "source": [
    "### 2. Create a vector with values ranging from 10 to 49.\n"
   ]
  },
  {
   "cell_type": "code",
   "execution_count": 2,
   "id": "db4e9184",
   "metadata": {},
   "outputs": [
    {
     "name": "stdout",
     "output_type": "stream",
     "text": [
      "[10 11 12 13 14 15 16 17 18 19 20 21 22 23 24 25 26 27 28 29 30 31 32 33\n",
      " 34 35 36 37 38 39 40 41 42 43 44 45 46 47 48 49]\n"
     ]
    }
   ],
   "source": [
    "import numpy as np\n",
    "\n",
    "vector = np.arange(10, 50)\n",
    "\n",
    "print(vector)\n"
   ]
  },
  {
   "cell_type": "markdown",
   "id": "1b6fa56d",
   "metadata": {},
   "source": [
    "### 3. Create a 3x3 matrix with values ranging from 0 to 8\n"
   ]
  },
  {
   "cell_type": "code",
   "execution_count": 6,
   "id": "b40afa15",
   "metadata": {},
   "outputs": [
    {
     "name": "stdout",
     "output_type": "stream",
     "text": [
      "[[0 1 2]\n",
      " [3 4 5]\n",
      " [6 7 8]]\n"
     ]
    }
   ],
   "source": [
    "import numpy as np\n",
    "\n",
    "matrix = np.arange(9).reshape((3, 3))\n",
    "\n",
    "print(matrix)\n"
   ]
  },
  {
   "cell_type": "markdown",
   "id": "a8ddcd8f",
   "metadata": {},
   "source": [
    "### 4. Find indices of non-zero elements from [1,2,0,0,4,0]\n"
   ]
  },
  {
   "cell_type": "code",
   "execution_count": 7,
   "id": "7da7577e",
   "metadata": {},
   "outputs": [
    {
     "name": "stdout",
     "output_type": "stream",
     "text": [
      "(array([0, 1, 4], dtype=int64),)\n"
     ]
    }
   ],
   "source": [
    "import numpy as np\n",
    "arr = np.array([1, 2, 0, 0, 4, 0])\n",
    "indices = np.nonzero(arr)\n",
    "print(indices)\n"
   ]
  },
  {
   "cell_type": "markdown",
   "id": "80272344",
   "metadata": {},
   "source": [
    "### 5. Create a 10x10 array with random values and find the minimum and maximum values.\n"
   ]
  },
  {
   "cell_type": "code",
   "execution_count": 8,
   "id": "cfca25b4",
   "metadata": {},
   "outputs": [
    {
     "name": "stdout",
     "output_type": "stream",
     "text": [
      "Array:\n",
      "[[0.4079282  0.55750999 0.21904018 0.78278547 0.30002062 0.92724313\n",
      "  0.35909283 0.87557774 0.98155339 0.88986081]\n",
      " [0.59117014 0.10581385 0.19745552 0.96071376 0.80083284 0.31227162\n",
      "  0.72853927 0.68593188 0.23919983 0.31604841]\n",
      " [0.42523923 0.36736005 0.35817357 0.43629723 0.64469956 0.21630641\n",
      "  0.66391517 0.84167456 0.97999482 0.77579363]\n",
      " [0.31657198 0.32967015 0.23214267 0.10914016 0.14288536 0.95454821\n",
      "  0.02347718 0.64270954 0.28781769 0.28887473]\n",
      " [0.5161633  0.7513056  0.56139333 0.10023649 0.66347966 0.05336387\n",
      "  0.99441613 0.07251423 0.6196465  0.81274902]\n",
      " [0.43976003 0.77727416 0.78857543 0.33103621 0.68739283 0.44016383\n",
      "  0.33099948 0.9661166  0.94664988 0.95131758]\n",
      " [0.24692383 0.26298905 0.05049081 0.51978201 0.99489337 0.11275457\n",
      "  0.61586599 0.83314038 0.45770366 0.21084344]\n",
      " [0.11595018 0.58052893 0.79924939 0.94703066 0.95283444 0.53577364\n",
      "  0.67538169 0.60667809 0.17987462 0.61392756]\n",
      " [0.30140986 0.82900688 0.37113494 0.91305485 0.06654274 0.81615193\n",
      "  0.0578234  0.04771682 0.13427505 0.04755571]\n",
      " [0.90984208 0.66864335 0.54888826 0.9042697  0.66808728 0.17711165\n",
      "  0.79634238 0.39678315 0.80607786 0.20124705]]\n",
      "Minimum value: 0.023477175654018412\n",
      "Maximum value: 0.9948933720231633\n"
     ]
    }
   ],
   "source": [
    "import numpy as np\n",
    "array = np.random.rand(10, 10)\n",
    "minimum = np.min(array)\n",
    "maximum = np.max(array)\n",
    "\n",
    "print(\"Array:\")\n",
    "print(array)\n",
    "print(\"Minimum value:\", minimum)\n",
    "print(\"Maximum value:\", maximum)\n"
   ]
  },
  {
   "cell_type": "markdown",
   "id": "9ffce981",
   "metadata": {},
   "source": [
    "### 6. Create a random vector of size 30 and find the mean value.\n"
   ]
  },
  {
   "cell_type": "code",
   "execution_count": 9,
   "id": "4ad8a8a6",
   "metadata": {},
   "outputs": [
    {
     "name": "stdout",
     "output_type": "stream",
     "text": [
      "Vector:\n",
      "[0.46510077 0.22912394 0.27777579 0.34823941 0.14337628 0.78463677\n",
      " 0.12745864 0.26381999 0.988035   0.58312322 0.48795927 0.40432371\n",
      " 0.35687479 0.91478066 0.50055936 0.32361074 0.423637   0.86066441\n",
      " 0.56864243 0.02192887 0.95105809 0.65841667 0.9702822  0.08153245\n",
      " 0.8424637  0.95727859 0.36741305 0.81259976 0.81939764 0.52006465]\n",
      "Mean value: 0.5351392619986828\n"
     ]
    }
   ],
   "source": [
    "import numpy as np\n",
    "\n",
    "vector = np.random.rand(30)\n",
    "mean = np.mean(vector)\n",
    "\n",
    "print(\"Vector:\")\n",
    "print(vector)\n",
    "print(\"Mean value:\", mean)\n"
   ]
  },
  {
   "cell_type": "code",
   "execution_count": null,
   "id": "fffb76e6",
   "metadata": {},
   "outputs": [],
   "source": []
  }
 ],
 "metadata": {
  "kernelspec": {
   "display_name": "Python 3 (ipykernel)",
   "language": "python",
   "name": "python3"
  },
  "language_info": {
   "codemirror_mode": {
    "name": "ipython",
    "version": 3
   },
   "file_extension": ".py",
   "mimetype": "text/x-python",
   "name": "python",
   "nbconvert_exporter": "python",
   "pygments_lexer": "ipython3",
   "version": "3.10.1"
  }
 },
 "nbformat": 4,
 "nbformat_minor": 5
}
